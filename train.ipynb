{
 "cells": [
  {
   "cell_type": "code",
   "execution_count": 1,
   "metadata": {},
   "outputs": [
    {
     "name": "stdout",
     "output_type": "stream",
     "text": [
      "Segmentation Models: using `tf.keras` framework.\n"
     ]
    }
   ],
   "source": [
    "import matplotlib.pyplot as plt\n",
    "import os\n",
    "from tqdm import tqdm\n",
    "\n",
    "import tensorflow as tf\n",
    "\n",
    "from src.dataset.dataloader import DataGenerator\n",
    "from src.core.config import parse_args, update_cfg\n",
    "\n",
    "from src.core.utils import prepare_output_dir\n",
    "from src.models.metaHDR import MetaHDR\n",
    "from src.core.loss import IRLoss"
   ]
  },
  {
   "cell_type": "code",
   "execution_count": 2,
   "metadata": {},
   "outputs": [],
   "source": [
    "def outer_train_step(inp, model, optim, meta_batch_size=25, num_inner_updates=1):\n",
    "    \"\"\"\n",
    "    MetaHDR's outer training loop handles meta-parameter adjustments, after num_inner_updates number of inner-loop task-specific \n",
    "    model updates.\n",
    "    \"\"\"\n",
    "    # note here, outer tape constructed to watch all model.trainable_variables!\n",
    "    # inner_loop is called in model(...)\n",
    "    # no need to do persistent, since only 1 outer_tape.gradient needs to be called\n",
    "    with tf.GradientTape(persistent=False) as outer_tape:\n",
    "        result = model(inp, meta_batch_size=meta_batch_size, num_inner_updates=num_inner_updates)\n",
    "\n",
    "    outputs_tr, outputs_ts, losses_tr_pre, losses_ts, accuracies_tr_pre, accuracies_ts = result\n",
    "\n",
    "    total_losses_ts = [tf.reduce_mean(loss_ts) for loss_ts in losses_ts]\n",
    "\n",
    "    # dont need to update self.inner_update_lr_dict,\n",
    "    # since learn rate is part of the model.training_variables\n",
    "    gradients = outer_tape.gradient(total_losses_ts[-1], model.m.trainable_weights)\n",
    "\n",
    "    # this will update ALL PARAMETERS, including the LEARN RATE!\n",
    "    # rather than manual gradient descent, Adam (adaptive grad descent) used to update params\n",
    "    print(len(gradients))\n",
    "    print(len(model.m.trainable_weights))\n",
    "\n",
    "    optim.apply_gradients(zip(gradients, model.m.trainable_weights))\n",
    "    # tf.keras.backend.clear_session()\n",
    "\n",
    "    total_loss_tr_pre = tf.reduce_mean(losses_tr_pre)\n",
    "    total_accuracy_tr_pre = tf.reduce_mean(accuracies_tr_pre)\n",
    "    total_accuracies_ts = [tf.reduce_mean(accuracy_ts) for accuracy_ts in accuracies_ts]\n",
    "    # tf.keras.backend.clear_session()\n",
    "    return outputs_tr, outputs_ts, total_loss_tr_pre, total_losses_ts, total_accuracy_tr_pre, total_accuracies_ts"
   ]
  },
  {
   "cell_type": "code",
   "execution_count": 3,
   "metadata": {},
   "outputs": [],
   "source": [
    "def outer_eval_step(inp, model, meta_batch_size=25, num_inner_updates=1):\n",
    "\n",
    "    result = model(inp, meta_batch_size=meta_batch_size, num_inner_updates=num_inner_updates)\n",
    "\n",
    "    outputs_tr, outputs_ts, losses_tr_pre, losses_ts, accuracies_tr_pre, accuracies_ts = result\n",
    "\n",
    "    total_loss_tr_pre = tf.reduce_mean(losses_tr_pre)\n",
    "    total_losses_ts = [tf.reduce_mean(loss_ts) for loss_ts in losses_ts]\n",
    "\n",
    "    total_accuracy_tr_pre = tf.reduce_mean(accuracies_tr_pre)\n",
    "    total_accuracies_ts = [tf.reduce_mean(accuracy_ts) for accuracy_ts in accuracies_ts]\n",
    "    # tf.keras.backend.clear_session()\n",
    "    return outputs_tr, outputs_ts, total_loss_tr_pre, total_losses_ts, total_accuracy_tr_pre, total_accuracies_ts"
   ]
  },
  {
   "cell_type": "code",
   "execution_count": 4,
   "metadata": {},
   "outputs": [],
   "source": [
    "def temp_mse_loss(y_true, y_pred):\n",
    "    # return tf.reduce_mean(tf.keras.losses.mean_squared_error(y_true, y_pred))\n",
    "    return tf.keras.losses.mean_squared_error(y_true, y_pred)"
   ]
  },
  {
   "cell_type": "code",
   "execution_count": 8,
   "metadata": {},
   "outputs": [],
   "source": [
    "def cross_entropy_loss(pred, label, k_shot):\n",
    "    return tf.reduce_mean(tf.nn.softmax_cross_entropy_with_logits(logits=pred, labels=tf.stop_gradient(label)) / k_shot)"
   ]
  },
  {
   "cell_type": "code",
   "execution_count": 5,
   "metadata": {},
   "outputs": [
    {
     "name": "stdout",
     "output_type": "stream",
     "text": [
      "READING IMGS...\n"
     ]
    },
    {
     "name": "stderr",
     "output_type": "stream",
     "text": [
      "100%|██████████| 450/450 [01:14<00:00,  6.05it/s]\n"
     ]
    },
    {
     "name": "stdout",
     "output_type": "stream",
     "text": [
      "SPLITTING DATA INTO TRAIN, VAL, TEST...\n"
     ]
    }
   ],
   "source": [
    "dl = DataGenerator()"
   ]
  },
  {
   "cell_type": "code",
   "execution_count": 9,
   "metadata": {},
   "outputs": [],
   "source": [
    "def main(cfg):\n",
    "    # Parameters\n",
    "    img_H = 512\n",
    "    img_W = 512\n",
    "\n",
    "    # Check compute method\n",
    "    print(\"Num GPUs Available: \", len(tf.config.experimental.list_physical_devices('GPU')))\n",
    "\n",
    "    # Define Loss\n",
    "    # loss_func = IRLoss(img_W, img_H, 0.5).forward\n",
    "    loss_func = partial(temp_mse_loss)\n",
    "\n",
    "    # Define Model \n",
    "    model = MetaHDR(loss_func, img_width=img_W, img_height=img_H, num_inner_updates=cfg.TRAIN.NUM_TASK_TR_ITER, inner_update_lr=cfg.TRAIN.TASK_LR)\n",
    "    \n",
    "    dl = DataGenerator()\n",
    "    train, test = dl.sample_batch('meta_train', cfg.TRAIN.BATCH_SIZE)\n",
    "\n",
    "    # NOTE: Treating N-way K-shot problem = 2-way 1-shot. Therefore, N*K = N\n",
    "    _, B, N, H, W, C = train.shape # (2, 8, 2, 512, 512, 3)\n",
    "\n",
    "    assert cfg.TRAIN.BATCH_SIZE == B, \"Data loader should not be changing batchsize!\"\n",
    "    assert img_H == H, \"Stated image height and loaded image height are not the same!\"\n",
    "    assert img_W == W, \"Stated image width and loaded image width are not the same!\"\n",
    "\n",
    "    meta_optimizer = tf.keras.optimizers.Adam(learning_rate=cfg.TRAIN.META_LR)\n",
    "\n",
    "    for itr in tqdm(range(cfg.TRAIN.NUM_META_TR_ITER)):\n",
    "        # Grab batch of data from dataloader\n",
    "        train, test = dl.sample_batch('meta_train', cfg.TRAIN.BATCH_SIZE)\n",
    "\n",
    "        # Perform each task-specific training inner-loop\n",
    "        inp = (train[0], test[0], train[1], test[1])\n",
    "        result = outer_train_step(inp, model, meta_optimizer, meta_batch_size=cfg.TRAIN.BATCH_SIZE, num_inner_updates=cfg.TRAIN.NUM_TASK_TR_ITER)\n",
    "\n",
    "        if itr % cfg.SUMMARY_INTERVAL == 0:\n",
    "            pre_accuracies.append(result[-2])\n",
    "            post_accuracies.append(result[-1][-1])\n",
    "\n",
    "        if (itr!=0) and itr % cfg.PRINT_INTERVAL == 0:\n",
    "            print_str = 'Iteration %d: pre-inner-loop train accuracy: %.5f, post-inner-loop test accuracy: %.5f' % (itr, np.mean(pre_accuracies), np.mean(post_accuracies))\n",
    "            print(print_str)\n",
    "            pre_accuracies, post_accuracies = [], []\n",
    "\n",
    "        if (itr!=0) and itr % cfg.TEST_PRINT_INTERVAL == 0:\n",
    "            # sample a batch of validation data and partition into\n",
    "            # training (input_tr, label_tr) and testing (input_ts, label_ts)\n",
    "            # ---------------------------\n",
    "            train, test = dl.sample_batch('meta_val', cfg.TRAIN.BATCH_SIZE)\n",
    "            inp = (train[0], test[0], train[1], test[1])\n",
    "            result = outer_train_step(inp, model, meta_optimizer, meta_batch_size=cfg.TRAIN.BATCH_SIZE, num_inner_updates=cfg.TRAIN.NUM_TASK_TR_ITER)\n",
    "\n",
    "    print(\"Checkpoint\")"
   ]
  },
  {
   "cell_type": "code",
   "execution_count": 10,
   "metadata": {},
   "outputs": [
    {
     "name": "stdout",
     "output_type": "stream",
     "text": [
      "Num GPUs Available:  0\n"
     ]
    },
    {
     "ename": "NameError",
     "evalue": "name 'partial' is not defined",
     "output_type": "error",
     "traceback": [
      "\u001b[0;31m---------------------------------------------------------------------------\u001b[0m",
      "\u001b[0;31mNameError\u001b[0m                                 Traceback (most recent call last)",
      "\u001b[0;32m<ipython-input-10-cc6877ba2a4f>\u001b[0m in \u001b[0;36m<module>\u001b[0;34m\u001b[0m\n\u001b[1;32m      2\u001b[0m \u001b[0;31m# cfg = prepare_output_dir(cfg, cfg_file)\u001b[0m\u001b[0;34m\u001b[0m\u001b[0;34m\u001b[0m\u001b[0;34m\u001b[0m\u001b[0m\n\u001b[1;32m      3\u001b[0m \u001b[0;34m\u001b[0m\u001b[0m\n\u001b[0;32m----> 4\u001b[0;31m \u001b[0mmain\u001b[0m\u001b[0;34m(\u001b[0m\u001b[0mcfg\u001b[0m\u001b[0;34m)\u001b[0m\u001b[0;34m\u001b[0m\u001b[0;34m\u001b[0m\u001b[0m\n\u001b[0m",
      "\u001b[0;32m<ipython-input-9-65e92040d3cc>\u001b[0m in \u001b[0;36mmain\u001b[0;34m(cfg)\u001b[0m\n\u001b[1;32m      9\u001b[0m     \u001b[0;31m# Define Loss\u001b[0m\u001b[0;34m\u001b[0m\u001b[0;34m\u001b[0m\u001b[0;34m\u001b[0m\u001b[0m\n\u001b[1;32m     10\u001b[0m     \u001b[0;31m# loss_func = IRLoss(img_W, img_H, 0.5).forward\u001b[0m\u001b[0;34m\u001b[0m\u001b[0;34m\u001b[0m\u001b[0;34m\u001b[0m\u001b[0m\n\u001b[0;32m---> 11\u001b[0;31m     \u001b[0mloss_func\u001b[0m \u001b[0;34m=\u001b[0m \u001b[0mpartial\u001b[0m\u001b[0;34m(\u001b[0m\u001b[0mtemp_mse_loss\u001b[0m\u001b[0;34m)\u001b[0m\u001b[0;34m\u001b[0m\u001b[0;34m\u001b[0m\u001b[0m\n\u001b[0m\u001b[1;32m     12\u001b[0m \u001b[0;34m\u001b[0m\u001b[0m\n\u001b[1;32m     13\u001b[0m     \u001b[0;31m# Define Model\u001b[0m\u001b[0;34m\u001b[0m\u001b[0;34m\u001b[0m\u001b[0;34m\u001b[0m\u001b[0m\n",
      "\u001b[0;31mNameError\u001b[0m: name 'partial' is not defined"
     ]
    }
   ],
   "source": [
    "cfg = update_cfg('configs/config.yaml')\n",
    "# cfg = prepare_output_dir(cfg, cfg_file)\n",
    "\n",
    "main(cfg)"
   ]
  },
  {
   "cell_type": "code",
   "execution_count": null,
   "metadata": {},
   "outputs": [],
   "source": []
  }
 ],
 "metadata": {
  "kernelspec": {
   "display_name": "Python 3",
   "language": "python",
   "name": "python3"
  },
  "language_info": {
   "codemirror_mode": {
    "name": "ipython",
    "version": 3
   },
   "file_extension": ".py",
   "mimetype": "text/x-python",
   "name": "python",
   "nbconvert_exporter": "python",
   "pygments_lexer": "ipython3",
   "version": "3.7.10"
  }
 },
 "nbformat": 4,
 "nbformat_minor": 4
}
